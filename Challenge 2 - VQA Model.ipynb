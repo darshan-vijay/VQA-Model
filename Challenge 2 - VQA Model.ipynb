{
 "cells": [
  {
   "cell_type": "code",
   "id": "initial_id",
   "metadata": {
    "collapsed": true,
    "ExecuteTime": {
     "end_time": "2025-03-21T04:10:30.547947Z",
     "start_time": "2025-03-21T04:10:11.657815Z"
    }
   },
   "source": [
    "import requests\n",
    "import torch\n",
    "import json\n",
    "\n",
    "# Directories\n",
    "img_dir = 'https://vizwiz.cs.colorado.edu/VizWiz_visualization_img/'\n",
    "ann_dir = 'https://vizwiz.cs.colorado.edu/VizWiz_final/vqa_data/Annotations/'\n",
    "train_annotation_path = f'{ann_dir}train.json'\n",
    "val_annotation_path = f'{ann_dir}val.json'\n",
    "test_annotation_path = f'{ann_dir}test.json'\n",
    "\n",
    "# Device configuration\n",
    "device = torch.device(\"mps\") if torch.backends.mps.is_available() else torch.device(\"cpu\")\n",
    "print(device)\n",
    "# Load annotation data\n",
    "def load_annotations(url):\n",
    "    response = requests.get(url, allow_redirects=True)\n",
    "    return response.json()\n",
    "\n",
    "train_data = load_annotations(train_annotation_path)\n",
    "val_data = load_annotations(val_annotation_path)\n",
    "test_data = load_annotations(test_annotation_path)\n",
    "\n",
    "print(f'Train set size: {len(train_data)}')\n",
    "print(f'Validation set size: {len(val_data)}')\n",
    "print(f'Test set size: {len(test_data)}')\n"
   ],
   "outputs": [
    {
     "name": "stdout",
     "output_type": "stream",
     "text": [
      "mps\n",
      "Train set size: 20523\n",
      "Validation set size: 4319\n",
      "Test set size: 8000\n"
     ]
    }
   ],
   "execution_count": 67
  },
  {
   "metadata": {
    "ExecuteTime": {
     "end_time": "2025-03-21T04:10:30.562778Z",
     "start_time": "2025-03-21T04:10:30.556001Z"
    }
   },
   "cell_type": "code",
   "source": [
    "# Taking 8000 samples from the train data\n",
    "train_subset = train_data[:8000]\n",
    "# Taking 300 samples from the val data\n",
    "val_subset = val_data[:300]\n",
    "\n",
    "# Taking 100 samples from the test data\n",
    "test_subset = test_data[:100]\n"
   ],
   "id": "5e7daf0733ad744d",
   "outputs": [],
   "execution_count": 68
  },
  {
   "metadata": {
    "ExecuteTime": {
     "end_time": "2025-03-21T04:12:09.998168Z",
     "start_time": "2025-03-21T04:10:30.930612Z"
    }
   },
   "cell_type": "code",
   "source": [
    "import os\n",
    "import numpy as np\n",
    "import torch\n",
    "from PIL import Image\n",
    "from torchvision import transforms\n",
    "import gensim.downloader as api\n",
    "import nltk\n",
    "from nltk.tokenize import word_tokenize\n",
    "from nltk.corpus import stopwords\n",
    "from nltk.stem import WordNetLemmatizer\n",
    "\n",
    "# Download necessary NLTK resources\n",
    "nltk.download('punkt')\n",
    "nltk.download('stopwords')\n",
    "nltk.download('wordnet')\n",
    "\n",
    "# Load Word2Vec model (50D embeddings)\n",
    "word2vec_model = api.load(\"glove-wiki-gigaword-50\")\n",
    "\n",
    "# Initialize text preprocessing tools\n",
    "stop_words = set(stopwords.words(\"english\"))\n",
    "lemmatizer = WordNetLemmatizer()\n",
    "\n",
    "def get_text_embedding(text):\n",
    "    \"\"\"Converts input text into a 50D Word2Vec vector after preprocessing.\"\"\"\n",
    "    words = word_tokenize(text.lower())  # Tokenize and convert to lowercase\n",
    "    words = [lemmatizer.lemmatize(word) for word in words if word.isalnum() and word not in stop_words]  # Lemmatize, remove stopwords and non-alphanumeric tokens\n",
    "    word_vectors = [word2vec_model[w] for w in words if w in word2vec_model]\n",
    "    return np.mean(word_vectors, axis=0) if word_vectors else np.zeros(50)\n",
    "\n",
    "# Define transformations for images\n",
    "transform = transforms.Compose([\n",
    "    transforms.Resize((128, 128)),  # Resize without center cropping\n",
    "    transforms.RandomHorizontalFlip(p=0.5),  # Augment: Flip images\n",
    "    transforms.ColorJitter(brightness=0.2, contrast=0.2, saturation=0.2),  # Augment: Adjust colors\n",
    "    transforms.ToTensor(),\n",
    "    transforms.Normalize(mean=[0.485, 0.456, 0.406], std=[0.229, 0.224, 0.225]),  # Standard normalization\n",
    "])\n",
    "\n",
    "# Load images and convert to tensors\n",
    "folder_path = \"/Users/darshanvijayaraghavan/Downloads/train\"\n",
    "image_tensors = []\n",
    "question_embeddings = []\n",
    "\n",
    "for sample in train_subset:\n",
    "    # Load and transform image\n",
    "    image_path = os.path.join(folder_path, sample['image'])\n",
    "    img = Image.open(image_path).convert(\"RGB\")\n",
    "    img_tensor = transform(img)\n",
    "    image_tensors.append(img_tensor)\n",
    "\n",
    "    # Convert question to Word2Vec embedding\n",
    "    question_embeddings.append(get_text_embedding(sample['question']))\n",
    "\n",
    "# Convert lists to PyTorch tensors\n",
    "image_tensors = torch.stack(image_tensors).to(device)\n",
    "question_tensors = torch.tensor(question_embeddings, dtype=torch.float32).to(device)\n",
    "\n",
    "print(f'Train images shape: {image_tensors.shape}')\n",
    "print(f'Train question embeddings shape: {question_tensors.shape}')\n"
   ],
   "id": "7a69c8ae91b2a1d",
   "outputs": [
    {
     "name": "stderr",
     "output_type": "stream",
     "text": [
      "[nltk_data] Downloading package punkt to\n",
      "[nltk_data]     /Users/darshanvijayaraghavan/nltk_data...\n",
      "[nltk_data]   Package punkt is already up-to-date!\n",
      "[nltk_data] Downloading package stopwords to\n",
      "[nltk_data]     /Users/darshanvijayaraghavan/nltk_data...\n",
      "[nltk_data]   Package stopwords is already up-to-date!\n",
      "[nltk_data] Downloading package wordnet to\n",
      "[nltk_data]     /Users/darshanvijayaraghavan/nltk_data...\n",
      "[nltk_data]   Package wordnet is already up-to-date!\n"
     ]
    },
    {
     "name": "stdout",
     "output_type": "stream",
     "text": [
      "Train images shape: torch.Size([8000, 3, 128, 128])\n",
      "Train question embeddings shape: torch.Size([8000, 50])\n"
     ]
    }
   ],
   "execution_count": 69
  },
  {
   "metadata": {
    "ExecuteTime": {
     "end_time": "2025-03-21T04:12:10.408291Z",
     "start_time": "2025-03-21T04:12:10.378247Z"
    }
   },
   "cell_type": "code",
   "source": [
    "from collections import Counter\n",
    "\n",
    "chosen_answers = []\n",
    "top_n = 300\n",
    "\n",
    "# Choose the most common answer from the ten labels\n",
    "for sample in train_subset:\n",
    "    answers = [entry['answer'] for entry in sample['answers']]\n",
    "    answer_counts = Counter(answers) # set up counter\n",
    "    top_answer, _ = answer_counts.most_common(1)[0] # get top answer out of the ten\n",
    "    chosen_answers.append(top_answer)\n",
    "\n",
    "# Count the frequency of answers for all samples\n",
    "answer_counts = Counter(chosen_answers)\n",
    "top_answers = answer_counts.most_common(top_n) # top n\n",
    "print(top_answers)\n",
    "\n",
    "# Create categories for top n\n",
    "category_name2id = {answer:ind for ind, (answer, _) in enumerate(top_answers)}\n",
    "category_id2name = {ind:answer for ind, (answer, _) in enumerate(top_answers)}\n",
    "category_id2name[top_n] = 'other_categories'\n",
    "\n",
    "output_classes = top_n + 1"
   ],
   "id": "7c928461bfa684b3",
   "outputs": [
    {
     "name": "stdout",
     "output_type": "stream",
     "text": [
      "[('unanswerable', 1521), ('unsuitable', 1243), ('no', 214), ('yes', 179), ('grey', 123), ('white', 120), ('black', 93), ('blue', 77), ('red', 67), ('green', 40), ('brown', 35), ('dog', 32), ('keyboard', 31), ('phone', 29), ('pink', 29), ('purple', 28), ('coca cola', 23), ('lotion', 23), ('soup', 22), ('wine', 22), ('laptop', 19), ('yellow', 19), ('pepsi', 18), ('cell phone', 16), ('shampoo', 16), ('black white', 16), ('nothing', 16), ('coffee', 15), ('orange', 14), ('remote', 14), ('corn', 14), ('chair', 14), ('water bottle', 13), ('beer', 13), ('cup', 13), ('green beans', 12), ('computer', 12), ('tv', 11), ('beans', 11), ('mountain dew', 11), ('tan', 10), ('remote control', 10), ('pen', 10), ('dr pepper', 9), ('door', 9), ('water', 9), ('cookies', 9), ('computer mouse', 9), ('apple', 9), ('plant', 9), ('soda', 9), ('cat', 9), ('table', 9), ('hand sanitizer', 9), ('candy', 8), ('flowers', 8), ('chicken', 8), ('cereal', 8), ('tomato sauce', 8), ('money', 8), ('can', 8), ('20', 8), ('book', 8), ('bottle', 7), ('iphone', 7), ('right', 7), ('diet coke', 7), ('black beans', 7), ('blanket', 7), ('beige', 7), ('peanut butter', 7), ('watch', 7), ('0', 7), ('8 minutes', 7), ('chocolate', 7), ('gum', 7), ('tomatoes', 6), ('foot', 6), ('dark', 6), ('sunglasses', 6), ('cloudy', 6), ('10', 6), ('radio', 6), ('gold', 6), ('regular', 6), ('red white', 6), ('pillow', 6), ('coffee cup', 6), ('fan', 6), ('cigarettes', 6), ('tea', 6), ('window', 6), ('1', 6), ('cream mushroom', 6), ('plaid', 6), ('silver', 6), ('beef', 6), ('shoe', 6), ('glasses', 6), ('on', 5), ('shirt', 5), ('hand', 5), ('strawberry', 5), ('off', 5), ('paper', 5), ('salt vinegar', 5), ('chicken broth', 5), ('purse', 5), ('couch', 5), ('pudding', 5), ('sprite', 5), ('ginger ale', 5), ('apple juice', 5), ('toothpaste', 5), ('pizza', 5), ('tuna', 5), ('ibuprofen', 5), ('2', 5), ('perfume', 5), ('light', 5), ('kitchen', 5), ('1 dollar', 5), ('food', 5), ('telephone', 5), ('desk', 5), ('microsoft', 5), ('calculator', 5), ('living room', 5), ('lamp', 5), ('4', 5), ('charger', 5), ('cd', 5), ('mouse', 5), ('vanilla', 4), ('mustard', 4), ('entertainment center', 4), ('chips', 4), ('melatonin', 4), ('tissues', 4), ('ketchup', 4), ('20 dollar bill', 4), ('microsoft corporation', 4), ('8', 4), ('clear', 4), ('television', 4), ('golden retriever', 4), ('crackers', 4), ('floor', 4), ('pineapple', 4), ('stuffed animal', 4), ('carpet', 4), ('painting', 4), ('meatloaf', 4), ('clock', 4), ('cream mushroom soup', 4), ('mints', 4), ('ground beef', 4), ('74', 4), ('soap', 4), ('rug', 4), ('3', 4), ('speaker', 4), ('oatmeal', 4), ('chicken noodle', 4), ('carrots', 4), ('green white', 4), ('chicken noodle soup', 4), ('rice', 4), ('potato chips', 4), ('laundry detergent', 4), ('video game', 4), ('vitamins', 4), ('coke', 4), ('blue white', 4), ('wallet', 4), ('fireplace', 4), ('sauce', 4), ('400', 4), ('bush', 4), ('box', 4), ('spaghetti meatballs', 4), ('sweet corn', 4), ('sky', 4), ('conditioner', 4), ('shoes', 3), ('100', 3), ('mug', 3), ('finger', 3), ('white pink', 3), ('shaving cream', 3), ('gift card', 3), ('73', 3), ('granola bars', 3), ('bed', 3), ('medicine', 3), ('white chocolate', 3), ('kona blend', 3), ('headphones', 3), ('bedroom', 3), ('popcorn', 3), ('juice', 3), ('1 dollar bill', 3), ('fish tank', 3), ('sage', 3), ('left', 3), ('picture', 3), ('dresser', 3), ('potatoes', 3), ('drink', 3), ('stove', 3), ('milk', 3), ('neosporin', 3), ('5', 3), ('diced tomatoes', 3), ('snickers', 3), ('glass', 3), ('75', 3), ('sink', 3), ('ravioli', 3), ('august 13 2012', 3), ('vending machine', 3), ('upside down', 3), ('hazelnut', 3), ('spinach', 3), ('kahlua', 3), ('38.5', 3), ('hamburger helper', 3), ('tree', 3), ('shelf', 3), ('car', 3), ('crumbed fillet fish', 3), ('refrigerator', 3), ('room', 3), ('bird', 3), ('apple cinnamon', 3), ('olives', 3), ('sea salt', 3), ('muffin mix', 3), ('ginger', 3), ('broccoli', 3), ('tablet', 3), ('right side up', 3), ('gevalia', 3), ('healthy choice', 3), ('tv remote', 3), ('windex', 3), ('butter', 3), ('special k', 3), ('banana', 3), ('bottled water', 3), ('low', 3), ('extra sweet tea', 3), ('kleenex', 3), ('lemon', 3), ('vanilla hazelnut', 3), ('peach', 3), ('legs', 3), ('dvd', 3), ('pinto beans', 3), ('bottle cap', 3), ('terrier', 3), ('ipod', 3), ('toshiba', 3), ('pills', 3), ('350', 3), ('69', 3), ('king spades', 3), ('german shepard', 3), ('campbells', 3), ('coke 0', 3), ('harry potter', 3), ('wall', 3), ('french vanilla', 3), ('ceiling', 3), ('pancake mix', 3), ('flower', 3), ('diet pepsi', 3), ('tool', 3), ('cross', 3), ('cottage pie', 3), ('french roast', 3), ('homestyle italian', 2), ('manwich', 2), ('cough drops', 2), ('ipad', 2), ('earl grey', 2), ('battery', 2), ('lever 2000', 2), ('raspberry', 2), ('windows', 2), ('gin', 2), ('cappuccino', 2), ('mixed nuts', 2), ('pear', 2), ('nokia', 2), ('pasta sauce', 2), ('macaroni cheese', 2), ('spray bottle', 2), ('toy', 2), ('decaffeinated', 2)]\n"
     ]
    }
   ],
   "execution_count": 70
  },
  {
   "metadata": {
    "ExecuteTime": {
     "end_time": "2025-03-21T04:12:10.424751Z",
     "start_time": "2025-03-21T04:12:10.419569Z"
    }
   },
   "cell_type": "code",
   "source": [
    "targets = []\n",
    "\n",
    "for ans in chosen_answers:\n",
    "    if ans in category_name2id.keys():\n",
    "        targets.append(category_name2id[ans])\n",
    "    else:\n",
    "        targets.append(top_n) # if not in top n, use the n+1 th category\n",
    "\n",
    "targets_tensor = torch.tensor(targets)\n",
    "print('Target size:', targets_tensor.shape)"
   ],
   "id": "c2f51325279e7f0d",
   "outputs": [
    {
     "name": "stdout",
     "output_type": "stream",
     "text": [
      "Target size: torch.Size([8000])\n"
     ]
    }
   ],
   "execution_count": 71
  },
  {
   "metadata": {
    "ExecuteTime": {
     "end_time": "2025-03-21T04:12:10.591555Z",
     "start_time": "2025-03-21T04:12:10.588046Z"
    }
   },
   "cell_type": "code",
   "source": [
    "import torch\n",
    "import torch.optim as optim\n",
    "import torch.nn as nn\n",
    "from torch.utils.data import Dataset, DataLoader\n",
    "\n",
    "\n",
    "device = torch.device(\"mps\" if torch.cuda.is_available() else \"cpu\")\n",
    "\n",
    "# Custom Dataset class\n",
    "class VQADataset(Dataset):\n",
    "    def __init__(self, images, questions, targets):\n",
    "        self.images = images\n",
    "        self.questions = questions\n",
    "        self.targets = targets\n",
    "\n",
    "    def __len__(self):\n",
    "        return len(self.targets)\n",
    "\n",
    "    def __getitem__(self, idx):\n",
    "        return self.images[idx], self.questions[idx], self.targets[idx]\n",
    "\n",
    "# Assuming image_tensors, question_tensors, and targets_tensor are already defined\n",
    "dataset = VQADataset(image_tensors, question_tensors, targets_tensor)\n",
    "\n",
    "# Create DataLoader with batch size 16\n",
    "batch_size = 32\n",
    "dataloader = DataLoader(dataset, batch_size=batch_size, shuffle=True)\n"
   ],
   "id": "e2837f77b0bd53da",
   "outputs": [],
   "execution_count": 72
  },
  {
   "metadata": {
    "ExecuteTime": {
     "end_time": "2025-03-21T04:12:14.927374Z",
     "start_time": "2025-03-21T04:12:10.761396Z"
    }
   },
   "cell_type": "code",
   "source": [
    "# Load validation images and convert to tensors\n",
    "val_folder_path = \"/Users/darshanvijayaraghavan/Downloads/val\"\n",
    "val_image_tensors = []\n",
    "val_question_embeddings = []\n",
    "\n",
    "for sample in val_subset:\n",
    "    # Load and transform image\n",
    "    val_image_path = os.path.join(val_folder_path, sample['image'])\n",
    "    val_img = Image.open(val_image_path).convert(\"RGB\")\n",
    "    val_img_tensor = transform(val_img)\n",
    "    val_image_tensors.append(val_img_tensor)\n",
    "\n",
    "    # Convert question to Word2Vec embedding\n",
    "    val_question_embeddings.append(get_text_embedding(sample['question']))\n",
    "\n",
    "# Convert lists to PyTorch tensors\n",
    "val_image_tensors = torch.stack(val_image_tensors).to(device)\n",
    "val_question_tensors = torch.tensor(val_question_embeddings, dtype=torch.float32).to(device)\n",
    "\n",
    "\n",
    "print(f'Validation images shape: {val_image_tensors.shape}')\n",
    "print(f'Validation question embeddings shape: {val_question_tensors.shape}')\n"
   ],
   "id": "bf3f7427e4a8195e",
   "outputs": [
    {
     "name": "stdout",
     "output_type": "stream",
     "text": [
      "Validation images shape: torch.Size([300, 3, 128, 128])\n",
      "Validation question embeddings shape: torch.Size([300, 50])\n"
     ]
    }
   ],
   "execution_count": 73
  },
  {
   "metadata": {
    "ExecuteTime": {
     "end_time": "2025-03-21T04:12:15.093606Z",
     "start_time": "2025-03-21T04:12:15.088508Z"
    }
   },
   "cell_type": "code",
   "source": [
    "\n",
    "val_targets = torch.tensor([sample['answerable'] for sample in val_subset], dtype=torch.float32).to(device)\n",
    "val_dataset = VQADataset(val_image_tensors, val_question_tensors, val_targets)\n"
   ],
   "id": "eac4e2dfb7a5bb74",
   "outputs": [],
   "execution_count": 74
  },
  {
   "metadata": {
    "ExecuteTime": {
     "end_time": "2025-03-21T04:12:15.257982Z",
     "start_time": "2025-03-21T04:12:15.255264Z"
    }
   },
   "cell_type": "code",
   "source": [
    " # Implement the given metric\n",
    "def calculate_accuracy(predicted_answer, human_answers):\n",
    "\n",
    "    # Normalize answers (to lowercase)\n",
    "    predicted_answer = predicted_answer.lower()\n",
    "    human_answers = [answer['answer'].lower() for answer in human_answers]\n",
    "\n",
    "    # Get the count of humans who agreed with the predicted answer\n",
    "    answer_counts = Counter(human_answers)\n",
    "    humans_agreed = answer_counts.get(predicted_answer, 0)\n",
    "\n",
    "    # Calculate accuracy: min(# humans who agreed / 3, 1)\n",
    "    accuracy = min(humans_agreed / 3, 1)\n",
    "\n",
    "    return accuracy\n",
    "\n",
    "# Process all results for your score\n",
    "def evaluation_server(predicted_answer, annotations):\n",
    "    accs = []\n",
    "    for pred, ann in zip(predicted_answer, annotations):\n",
    "        accs.append(calculate_accuracy(pred, ann['answers']))\n",
    "    return np.mean(accs)"
   ],
   "id": "236fb859118b5523",
   "outputs": [],
   "execution_count": 75
  },
  {
   "metadata": {
    "ExecuteTime": {
     "end_time": "2025-03-21T04:12:15.418519Z",
     "start_time": "2025-03-21T04:12:15.408412Z"
    }
   },
   "cell_type": "code",
   "source": [
    "import torch\n",
    "import torch.nn as nn\n",
    "import torch.nn.functional as F\n",
    "import torchvision.models as models\n",
    "import matplotlib.pyplot as plt\n",
    "\n",
    "class ImprovedVQAModel(nn.Module):\n",
    "    def __init__(self, hidden_dim=256, num_classes=None, num_heads=2, dropout_rate=0.2):\n",
    "        super(ImprovedVQAModel, self).__init__()\n",
    "\n",
    "        # Image feature extraction (ResNet34 backbone)\n",
    "        self.cnn = models.resnet34(pretrained=True)\n",
    "        for param in list(self.cnn.parameters())[:-8]:\n",
    "            param.requires_grad = False\n",
    "        self.cnn.fc = nn.Linear(self.cnn.fc.in_features, hidden_dim)\n",
    "\n",
    "        # Text feature extraction\n",
    "        self.text_embedding = nn.Sequential(\n",
    "            nn.Linear(50, hidden_dim * 2),\n",
    "            nn.LayerNorm(hidden_dim * 2),\n",
    "            nn.ReLU(),\n",
    "            nn.Dropout(dropout_rate),\n",
    "            nn.Linear(hidden_dim * 2, hidden_dim),\n",
    "            nn.LayerNorm(hidden_dim),\n",
    "            nn.ReLU(),\n",
    "            nn.Dropout(dropout_rate)\n",
    "        )\n",
    "\n",
    "        # Multi-head Attention\n",
    "        self.img_to_text_attention = nn.MultiheadAttention(embed_dim=hidden_dim, num_heads=num_heads, batch_first=True)\n",
    "        self.text_to_img_attention = nn.MultiheadAttention(embed_dim=hidden_dim, num_heads=num_heads, batch_first=True)\n",
    "\n",
    "        # Normalization layers\n",
    "        self.norm1 = nn.LayerNorm(hidden_dim)\n",
    "        self.norm2 = nn.LayerNorm(hidden_dim)\n",
    "\n",
    "        # Gated Fusion Mechanism\n",
    "        self.gate = nn.Sequential(\n",
    "            nn.Linear(hidden_dim * 2, hidden_dim),\n",
    "            nn.Sigmoid()\n",
    "        )\n",
    "\n",
    "        # Classifier\n",
    "        self.classifier = nn.Sequential(\n",
    "            nn.Linear(hidden_dim, hidden_dim),\n",
    "            nn.ReLU(),\n",
    "            nn.Linear(hidden_dim, num_classes)\n",
    "        )\n",
    "\n",
    "    def forward(self, image, text):\n",
    "        # Image feature extraction\n",
    "        img_features = self.cnn(image)  # [batch_size, hidden_dim]\n",
    "\n",
    "        # Text feature extraction\n",
    "        text_features = self.text_embedding(text)  # [batch_size, hidden_dim]\n",
    "\n",
    "        # Prepare features for attention\n",
    "        img_features_attn = img_features.unsqueeze(1)  # [batch_size, 1, hidden_dim]\n",
    "        text_features_attn = text_features.unsqueeze(1)  # [batch_size, 1, hidden_dim]\n",
    "\n",
    "        # Cross-modal attention\n",
    "        attended_text, _ = self.img_to_text_attention(\n",
    "            query=img_features_attn,\n",
    "            key=text_features_attn,\n",
    "            value=text_features_attn\n",
    "        )\n",
    "        attended_img, _ = self.text_to_img_attention(\n",
    "            query=text_features_attn,\n",
    "            key=img_features_attn,\n",
    "            value=img_features_attn\n",
    "        )\n",
    "\n",
    "        # Apply normalization\n",
    "        attended_text = self.norm1(attended_text).squeeze(1)  # [batch_size, hidden_dim]\n",
    "        attended_img = self.norm2(attended_img).squeeze(1)  # [batch_size, hidden_dim]\n",
    "\n",
    "        # Gated fusion mechanism\n",
    "        concat_features = torch.cat([attended_text, attended_img], dim=1)  # [batch_size, hidden_dim * 2]\n",
    "        gate_value = self.gate(concat_features)\n",
    "        fused_features = gate_value * attended_text + (1 - gate_value) * attended_img  # [batch_size, hidden_dim]\n",
    "\n",
    "        # Classification\n",
    "        logits = self.classifier(fused_features)  # [batch_size, num_classes]\n",
    "\n",
    "        return logits\n",
    "\n",
    "def train_improved_model(model, train_loader, num_epochs=10):\n",
    "    criterion = nn.CrossEntropyLoss()\n",
    "    optimizer = torch.optim.SGD(model.parameters(), lr=0.0005, weight_decay=1e-5, momentum=0.9)\n",
    "\n",
    "    best_val_acc = 0.0\n",
    "\n",
    "    # Lists to store metrics for plotting\n",
    "    train_losses, val_losses = [], []\n",
    "    train_accuracies, val_accuracies = [], []\n",
    "\n",
    "    for epoch in range(num_epochs):\n",
    "        model.train()\n",
    "        train_loss = 0.0\n",
    "        train_correct = 0\n",
    "        train_total = 0\n",
    "\n",
    "        for images, questions, targets in train_loader:\n",
    "            images, questions, targets = images.to(device), questions.to(device), targets.to(device)\n",
    "\n",
    "            optimizer.zero_grad()\n",
    "            outputs = model(images, questions)\n",
    "            loss = criterion(outputs, targets)\n",
    "            loss.backward()\n",
    "            optimizer.step()\n",
    "\n",
    "            train_loss += loss.item() * images.size(0)\n",
    "            _, predicted = torch.max(outputs, 1)\n",
    "            train_correct += (predicted == targets).sum().item()\n",
    "            train_total += targets.size(0)\n",
    "\n",
    "        train_loss /= train_total\n",
    "        train_acc = train_correct / train_total\n",
    "        train_losses.append(train_loss)\n",
    "        train_accuracies.append(train_acc)\n",
    "\n",
    "        print(f\"Epoch [{epoch+1}/{num_epochs}] Train Loss: {train_loss:.4f}, Train Acc: {train_acc:.4f}\")\n",
    "        model.eval()\n",
    "\n",
    "        with torch.no_grad():\n",
    "            images = val_image_tensors.to(device)\n",
    "            questions = val_question_tensors.to(device)\n",
    "            outputs = model(images, questions)\n",
    "            _, predicted = torch.max(outputs, 1)\n",
    "\n",
    "        predictions = predicted.cpu().numpy()\n",
    "        answers = [category_id2name[pred] for pred in predictions]\n",
    "        score = evaluation_server(answers, val_subset)\n",
    "        val_accuracies.append(score)\n",
    "        print(f\"Val Acc: {score:.4f}\")\n",
    "\n",
    "        if score > best_val_acc:\n",
    "            best_val_acc = score\n",
    "            torch.save(model.state_dict(), 'best_vqa_model.pth')\n",
    "            print(f\"New best model saved with validation accuracy: {score:.4f}\")\n",
    "\n",
    "        # Plot training and validation accuracy and loss\n",
    "    epochs = range(1, num_epochs + 1)\n",
    "\n",
    "    plt.figure(figsize=(12, 5))\n",
    "    print(\"Avg validation Accuracy: {:.4f}\".format(np.mean(val_accuracies)))\n",
    "    # Plot Loss\n",
    "    plt.subplot(1, 2, 1)\n",
    "    plt.plot(epochs, train_losses, label='Train Loss')\n",
    "    plt.xlabel('Epoch')\n",
    "    plt.ylabel('Loss')\n",
    "    plt.title('Loss over Epochs')\n",
    "    plt.legend()\n",
    "\n",
    "    # Plot Accuracy\n",
    "    plt.subplot(1, 2, 2)\n",
    "    plt.plot(epochs, train_accuracies, label='Train Acc')\n",
    "    plt.plot(epochs, val_accuracies, label='Val Acc')\n",
    "    plt.xlabel('Epoch')\n",
    "    plt.ylabel('Accuracy')\n",
    "    plt.title('Accuracy over Epochs')\n",
    "    plt.legend()\n",
    "\n",
    "    plt.tight_layout()\n",
    "    plt.show()\n",
    "\n",
    "    return model"
   ],
   "id": "dcb2261a7023e47e",
   "outputs": [],
   "execution_count": 76
  },
  {
   "metadata": {
    "ExecuteTime": {
     "end_time": "2025-03-21T04:38:19.417592Z",
     "start_time": "2025-03-21T04:12:15.567291Z"
    }
   },
   "cell_type": "code",
   "source": [
    "train_dataset = VQADataset(image_tensors, question_tensors, targets_tensor)\n",
    "batch_size = 32\n",
    "\n",
    "# Create both train and validation loaders\n",
    "# For validation, you should use your val_subset data\n",
    "train_loader = DataLoader(train_dataset, batch_size=batch_size, shuffle=True)\n",
    "\n",
    "\n",
    "model = ImprovedVQAModel(\n",
    "    hidden_dim=256,         # Increase if you have enough GPU memory\n",
    "    num_classes=output_classes,\n",
    "    dropout_rate=0.2\n",
    ").to(device)\n",
    "\n",
    "# 5. Train the model\n",
    "trained_model = train_improved_model(\n",
    "    model=model,\n",
    "    train_loader=train_loader,\n",
    "    num_epochs=10\n",
    ")"
   ],
   "id": "66f19451621ba81f",
   "outputs": [
    {
     "name": "stdout",
     "output_type": "stream",
     "text": [
      "Epoch [1/10] Train Loss: 3.4182, Train Acc: 0.3111\n",
      "Val Acc: 0.0000\n",
      "Epoch [2/10] Train Loss: 2.8756, Train Acc: 0.3486\n",
      "Val Acc: 0.1511\n",
      "New best model saved with validation accuracy: 0.1511\n",
      "Epoch [3/10] Train Loss: 2.7781, Train Acc: 0.3666\n",
      "Val Acc: 0.2011\n",
      "New best model saved with validation accuracy: 0.2011\n",
      "Epoch [4/10] Train Loss: 2.6907, Train Acc: 0.3930\n",
      "Val Acc: 0.2500\n",
      "New best model saved with validation accuracy: 0.2500\n",
      "Epoch [5/10] Train Loss: 2.6219, Train Acc: 0.4065\n",
      "Val Acc: 0.3611\n",
      "New best model saved with validation accuracy: 0.3611\n",
      "Epoch [6/10] Train Loss: 2.5640, Train Acc: 0.4159\n",
      "Val Acc: 0.2189\n",
      "Epoch [7/10] Train Loss: 2.5190, Train Acc: 0.4288\n",
      "Val Acc: 0.2856\n",
      "Epoch [8/10] Train Loss: 2.4780, Train Acc: 0.4368\n",
      "Val Acc: 0.1411\n",
      "Epoch [9/10] Train Loss: 2.4384, Train Acc: 0.4465\n",
      "Val Acc: 0.2800\n",
      "Epoch [10/10] Train Loss: 2.3954, Train Acc: 0.4569\n",
      "Val Acc: 0.2644\n",
      "Avg validation Accuracy: 0.2153\n"
     ]
    },
    {
     "data": {
      "text/plain": [
       "<Figure size 1200x500 with 2 Axes>"
      ],
      "image/png": "[encoded data removed]"
     },
     "metadata": {},
     "output_type": "display_data"
    }
   ],
   "execution_count": 77
  },
  {
   "metadata": {
    "ExecuteTime": {
     "end_time": "2025-03-21T04:38:21.155432Z",
     "start_time": "2025-03-21T04:38:19.841519Z"
    }
   },
   "cell_type": "code",
   "source": [
    "# Define the test dataset folder\n",
    "test_folder_path = \"/Users/darshanvijayaraghavan/Downloads/test\"\n",
    "test_image_tensors = []\n",
    "test_question_embeddings = []\n",
    "\n",
    "for sample in test_subset:\n",
    "    # Load and transform image\n",
    "    test_image_path = os.path.join(test_folder_path, sample['image'])\n",
    "    test_img = Image.open(test_image_path).convert(\"RGB\")\n",
    "    test_img_tensor = transform(test_img)\n",
    "    test_image_tensors.append(test_img_tensor)\n",
    "\n",
    "    # Convert question to Word2Vec embedding\n",
    "    test_question_embeddings.append(get_text_embedding(sample['question']))\n",
    "\n",
    "# Convert lists to PyTorch tensors\n",
    "test_image_tensors = torch.stack(test_image_tensors).to(device)\n",
    "test_question_tensors = torch.tensor(test_question_embeddings, dtype=torch.float32).to(device)\n",
    "\n",
    "print(f'Test images shape: {test_image_tensors.shape}')\n",
    "print(f'Test question embeddings shape: {test_question_tensors.shape}')\n"
   ],
   "id": "1832cc01150bd380",
   "outputs": [
    {
     "name": "stdout",
     "output_type": "stream",
     "text": [
      "Test images shape: torch.Size([100, 3, 128, 128])\n",
      "Test question embeddings shape: torch.Size([100, 50])\n"
     ]
    }
   ],
   "execution_count": 78
  },
  {
   "metadata": {
    "ExecuteTime": {
     "end_time": "2025-03-21T05:20:01.002451Z",
     "start_time": "2025-03-21T05:19:59.196273Z"
    }
   },
   "cell_type": "code",
   "source": [
    "model = ImprovedVQAModel(hidden_dim=256, num_classes=301, dropout_rate=0.2)\n",
    "model.load_state_dict(torch.load('best_vqa_model.pth'))\n",
    "model.to(device)\n",
    "model.eval()\n",
    "\n",
    "with torch.no_grad():\n",
    "    images = test_image_tensors.to(device)\n",
    "    questions = test_question_tensors.to(device)\n",
    "    outputs = model(images, questions)\n",
    "    _, predicted = torch.max(outputs, 1)\n",
    "\n",
    "predictions = predicted.cpu().numpy()\n",
    "\n",
    "image_names = [sample['image'] for sample in test_subset]\n",
    "answers = [category_id2name[pred] for pred in predictions]\n",
    "results = [{'image':image, 'answer':ans} for image, ans in zip(image_names, answers)]\n",
    "\n",
    "print('Check the format for the first sample:', results[0])\n",
    "\n",
    "import json\n",
    "\n",
    "# Save predictions to JSON file\n",
    "output_filename = \"Darshan_Vijayaraghavan_challenge2.json\"\n",
    "with open(output_filename, \"w\") as f:\n",
    "    json.dump(results, f, indent=4)\n",
    "\n",
    "print(f\"Predictions saved to {output_filename}\")\n"
   ],
   "id": "7281b9b42da9ab2d",
   "outputs": [
    {
     "name": "stdout",
     "output_type": "stream",
     "text": [
      "Check the format for the first sample: {'image': 'VizWiz_test_00000000.jpg', 'answer': 'grey'}\n",
      "Predictions saved to Darshan_Vijayaraghavan_challenge2.json\n"
     ]
    }
   ],
   "execution_count": 80
  }
 ],
 "metadata": {
  "kernelspec": {
   "display_name": "Python 3",
   "language": "python",
   "name": "python3"
  },
  "language_info": {
   "codemirror_mode": {
    "name": "ipython",
    "version": 2
   },
   "file_extension": ".py",
   "mimetype": "text/x-python",
   "name": "python",
   "nbconvert_exporter": "python",
   "pygments_lexer": "ipython2",
   "version": "2.7.6"
  }
 },
 "nbformat": 4,
 "nbformat_minor": 5
}
